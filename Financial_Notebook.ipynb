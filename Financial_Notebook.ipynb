{
 "cells": [
  {
   "cell_type": "code",
   "execution_count": 2,
   "metadata": {},
   "outputs": [],
   "source": [
    "import numpy as np   # numerical computations\n",
    "import pandas as pd    #dataframes and spreadsheets\n",
    "pd.set_option('display.max_columns', 22)\n",
    "\n",
    "\n",
    "import matplotlib.pyplot as plt      # visualisations and charts\n",
    "\n",
    "\n",
    "from sqlalchemy import create_engine"
   ]
  },
  {
   "cell_type": "code",
   "execution_count": 5,
   "metadata": {},
   "outputs": [
    {
     "name": "stdout",
     "output_type": "stream",
     "text": [
      "Collecting mysql-connector-python\n",
      "  Downloading mysql_connector_python-8.1.0-py2.py3-none-any.whl (581 kB)\n",
      "\u001b[K     |████████████████████████████████| 581 kB 4.3 MB/s eta 0:00:01\n",
      "\u001b[?25hCollecting protobuf<=4.21.12,>=4.21.1\n",
      "  Downloading protobuf-4.21.12-cp37-abi3-macosx_10_9_universal2.whl (486 kB)\n",
      "\u001b[K     |████████████████████████████████| 486 kB 8.6 MB/s eta 0:00:01\n",
      "\u001b[?25hInstalling collected packages: protobuf, mysql-connector-python\n",
      "  Attempting uninstall: protobuf\n",
      "    Found existing installation: protobuf 3.19.1\n",
      "    Uninstalling protobuf-3.19.1:\n",
      "      Successfully uninstalled protobuf-3.19.1\n",
      "Successfully installed mysql-connector-python-8.1.0 protobuf-4.21.12\n",
      "Note: you may need to restart the kernel to use updated packages.\n"
     ]
    }
   ],
   "source": [
    "# pip install mysql-connector-python"
   ]
  },
  {
   "cell_type": "code",
   "execution_count": 6,
   "metadata": {},
   "outputs": [],
   "source": [
    "def get_table_sql(query):\n",
    "\n",
    "    host=\"relational.fit.cvut.cz\"\n",
    "    user=\"guest\"\n",
    "    password=\"relational\"\n",
    "\n",
    "    connection_string_mysql = f\"mysql+mysqlconnector://{user}:{password}@{host}\"\n",
    "    \n",
    "    with create_engine(connection_string_mysql).connect() as connection:\n",
    "        \n",
    "        df = pd.read_sql_query(query, con=connection)\n",
    "    \n",
    "    return df\n"
   ]
  },
  {
   "cell_type": "code",
   "execution_count": 7,
   "metadata": {},
   "outputs": [],
   "source": [
    "loan = get_table_sql('''SELECT * FROM financial.loan;''')\n",
    "acct = get_table_sql('''SELECT * FROM financial.account;''')\n",
    "client = get_table_sql('''SELECT * FROM financial.client;''')\n",
    "trans = get_table_sql('''SELECT * FROM financial.trans;''')"
   ]
  },
  {
   "cell_type": "code",
   "execution_count": 8,
   "metadata": {},
   "outputs": [
    {
     "data": {
      "text/html": [
       "<div>\n",
       "<style scoped>\n",
       "    .dataframe tbody tr th:only-of-type {\n",
       "        vertical-align: middle;\n",
       "    }\n",
       "\n",
       "    .dataframe tbody tr th {\n",
       "        vertical-align: top;\n",
       "    }\n",
       "\n",
       "    .dataframe thead th {\n",
       "        text-align: right;\n",
       "    }\n",
       "</style>\n",
       "<table border=\"1\" class=\"dataframe\">\n",
       "  <thead>\n",
       "    <tr style=\"text-align: right;\">\n",
       "      <th></th>\n",
       "      <th>loan_id</th>\n",
       "      <th>account_id</th>\n",
       "      <th>date</th>\n",
       "      <th>amount</th>\n",
       "      <th>duration</th>\n",
       "      <th>payments</th>\n",
       "      <th>status</th>\n",
       "    </tr>\n",
       "  </thead>\n",
       "  <tbody>\n",
       "    <tr>\n",
       "      <th>0</th>\n",
       "      <td>4959</td>\n",
       "      <td>2</td>\n",
       "      <td>1994-01-05</td>\n",
       "      <td>80952</td>\n",
       "      <td>24</td>\n",
       "      <td>3373.0</td>\n",
       "      <td>A</td>\n",
       "    </tr>\n",
       "    <tr>\n",
       "      <th>1</th>\n",
       "      <td>4961</td>\n",
       "      <td>19</td>\n",
       "      <td>1996-04-29</td>\n",
       "      <td>30276</td>\n",
       "      <td>12</td>\n",
       "      <td>2523.0</td>\n",
       "      <td>B</td>\n",
       "    </tr>\n",
       "    <tr>\n",
       "      <th>2</th>\n",
       "      <td>4962</td>\n",
       "      <td>25</td>\n",
       "      <td>1997-12-08</td>\n",
       "      <td>30276</td>\n",
       "      <td>12</td>\n",
       "      <td>2523.0</td>\n",
       "      <td>A</td>\n",
       "    </tr>\n",
       "    <tr>\n",
       "      <th>3</th>\n",
       "      <td>4967</td>\n",
       "      <td>37</td>\n",
       "      <td>1998-10-14</td>\n",
       "      <td>318480</td>\n",
       "      <td>60</td>\n",
       "      <td>5308.0</td>\n",
       "      <td>D</td>\n",
       "    </tr>\n",
       "    <tr>\n",
       "      <th>4</th>\n",
       "      <td>4968</td>\n",
       "      <td>38</td>\n",
       "      <td>1998-04-19</td>\n",
       "      <td>110736</td>\n",
       "      <td>48</td>\n",
       "      <td>2307.0</td>\n",
       "      <td>C</td>\n",
       "    </tr>\n",
       "    <tr>\n",
       "      <th>...</th>\n",
       "      <td>...</td>\n",
       "      <td>...</td>\n",
       "      <td>...</td>\n",
       "      <td>...</td>\n",
       "      <td>...</td>\n",
       "      <td>...</td>\n",
       "      <td>...</td>\n",
       "    </tr>\n",
       "    <tr>\n",
       "      <th>677</th>\n",
       "      <td>7294</td>\n",
       "      <td>11327</td>\n",
       "      <td>1998-09-27</td>\n",
       "      <td>39168</td>\n",
       "      <td>24</td>\n",
       "      <td>1632.0</td>\n",
       "      <td>C</td>\n",
       "    </tr>\n",
       "    <tr>\n",
       "      <th>678</th>\n",
       "      <td>7295</td>\n",
       "      <td>11328</td>\n",
       "      <td>1998-07-18</td>\n",
       "      <td>280440</td>\n",
       "      <td>60</td>\n",
       "      <td>4674.0</td>\n",
       "      <td>C</td>\n",
       "    </tr>\n",
       "    <tr>\n",
       "      <th>679</th>\n",
       "      <td>7304</td>\n",
       "      <td>11349</td>\n",
       "      <td>1995-10-29</td>\n",
       "      <td>419880</td>\n",
       "      <td>60</td>\n",
       "      <td>6998.0</td>\n",
       "      <td>C</td>\n",
       "    </tr>\n",
       "    <tr>\n",
       "      <th>680</th>\n",
       "      <td>7305</td>\n",
       "      <td>11359</td>\n",
       "      <td>1996-08-06</td>\n",
       "      <td>54024</td>\n",
       "      <td>12</td>\n",
       "      <td>4502.0</td>\n",
       "      <td>A</td>\n",
       "    </tr>\n",
       "    <tr>\n",
       "      <th>681</th>\n",
       "      <td>7308</td>\n",
       "      <td>11362</td>\n",
       "      <td>1996-12-27</td>\n",
       "      <td>129408</td>\n",
       "      <td>24</td>\n",
       "      <td>5392.0</td>\n",
       "      <td>A</td>\n",
       "    </tr>\n",
       "  </tbody>\n",
       "</table>\n",
       "<p>682 rows × 7 columns</p>\n",
       "</div>"
      ],
      "text/plain": [
       "     loan_id  account_id        date  amount  duration  payments status\n",
       "0       4959           2  1994-01-05   80952        24    3373.0      A\n",
       "1       4961          19  1996-04-29   30276        12    2523.0      B\n",
       "2       4962          25  1997-12-08   30276        12    2523.0      A\n",
       "3       4967          37  1998-10-14  318480        60    5308.0      D\n",
       "4       4968          38  1998-04-19  110736        48    2307.0      C\n",
       "..       ...         ...         ...     ...       ...       ...    ...\n",
       "677     7294       11327  1998-09-27   39168        24    1632.0      C\n",
       "678     7295       11328  1998-07-18  280440        60    4674.0      C\n",
       "679     7304       11349  1995-10-29  419880        60    6998.0      C\n",
       "680     7305       11359  1996-08-06   54024        12    4502.0      A\n",
       "681     7308       11362  1996-12-27  129408        24    5392.0      A\n",
       "\n",
       "[682 rows x 7 columns]"
      ]
     },
     "execution_count": 8,
     "metadata": {},
     "output_type": "execute_result"
    }
   ],
   "source": [
    "loan"
   ]
  },
  {
   "cell_type": "code",
   "execution_count": null,
   "metadata": {},
   "outputs": [],
   "source": [
    "# EDA for loan, client( create age column), merge all relevant cells together in to one DF. Preprocess the data\n",
    "# trans (collapse to unique account ID/loan ID) and merge to one DF."
   ]
  },
  {
   "cell_type": "code",
   "execution_count": null,
   "metadata": {},
   "outputs": [],
   "source": []
  },
  {
   "cell_type": "code",
   "execution_count": null,
   "metadata": {},
   "outputs": [],
   "source": []
  },
  {
   "cell_type": "code",
   "execution_count": null,
   "metadata": {},
   "outputs": [],
   "source": []
  },
  {
   "cell_type": "code",
   "execution_count": null,
   "metadata": {},
   "outputs": [],
   "source": []
  },
  {
   "cell_type": "code",
   "execution_count": null,
   "metadata": {},
   "outputs": [],
   "source": []
  },
  {
   "cell_type": "code",
   "execution_count": null,
   "metadata": {},
   "outputs": [],
   "source": []
  },
  {
   "cell_type": "code",
   "execution_count": null,
   "metadata": {},
   "outputs": [],
   "source": []
  },
  {
   "cell_type": "code",
   "execution_count": null,
   "metadata": {},
   "outputs": [],
   "source": []
  },
  {
   "cell_type": "code",
   "execution_count": null,
   "metadata": {},
   "outputs": [],
   "source": []
  }
 ],
 "metadata": {
  "kernelspec": {
   "display_name": "base",
   "language": "python",
   "name": "python3"
  },
  "language_info": {
   "codemirror_mode": {
    "name": "ipython",
    "version": 3
   },
   "file_extension": ".py",
   "mimetype": "text/x-python",
   "name": "python",
   "nbconvert_exporter": "python",
   "pygments_lexer": "ipython3",
   "version": "3.9.12"
  },
  "orig_nbformat": 4
 },
 "nbformat": 4,
 "nbformat_minor": 2
}
